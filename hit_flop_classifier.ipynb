{
 "cells": [
  {
   "cell_type": "code",
   "execution_count": 4,
   "metadata": {},
   "outputs": [],
   "source": [
    "import pandas as pd\n",
    "\n",
    "df = pd.read_csv(\"spotify.csv\")"
   ]
  },
  {
   "cell_type": "code",
   "execution_count": null,
   "metadata": {},
   "outputs": [
    {
     "name": "stdout",
     "output_type": "stream",
     "text": [
      "              precision    recall  f1-score   support\n",
      "\n",
      "        Flop       0.84      0.88      0.86       725\n",
      "         Hit       0.84      0.79      0.82       569\n",
      "\n",
      "    accuracy                           0.84      1294\n",
      "   macro avg       0.84      0.84      0.84      1294\n",
      "weighted avg       0.84      0.84      0.84      1294\n",
      "\n"
     ]
    }
   ],
   "source": [
    "from sklearn.model_selection import train_test_split\n",
    "from sklearn.metrics import classification_report, confusion_matrix\n",
    "from sklearn.ensemble import RandomForestClassifier\n",
    "\n",
    "df['is_hit'] = df['popularity'] >= 60\n",
    "y_hit = df['is_hit'].astype(int)\n",
    "\n",
    "X = df.drop(columns=['track_id', 'artists', 'album_name', 'track_name', 'track_genre', 'is_hit', 'popularity'])\n",
    "\n",
    "X_train, X_test, y_train, y_test = train_test_split(X, y_hit, test_size=0.2, random_state=42)\n",
    "\n",
    "clf = RandomForestClassifier(n_estimators=100, random_state=42)\n",
    "clf.fit(X_train, y_train)\n",
    "\n",
    "y_pred = clf.predict(X_test)\n",
    "\n",
    "print(classification_report(y_test, y_pred, target_names=[\"Flop\", \"Hit\"]))"
   ]
  },
  {
   "cell_type": "code",
   "execution_count": 6,
   "metadata": {},
   "outputs": [
    {
     "data": {
      "image/png": "[encoded data removed]",
      "text/plain": [
       "<Figure size 640x480 with 2 Axes>"
      ]
     },
     "metadata": {},
     "output_type": "display_data"
    }
   ],
   "source": [
    "import seaborn as sns\n",
    "import matplotlib.pyplot as plt\n",
    "\n",
    "cm = confusion_matrix(y_test, y_pred)\n",
    "sns.heatmap(cm, annot=True, fmt='d', cmap='YlGnBu',\n",
    "            xticklabels=[\"Flop\", \"Hit\"], yticklabels=[\"Flop\", \"Hit\"])\n",
    "plt.xlabel(\"Predicted\")\n",
    "plt.ylabel(\"Actual\")\n",
    "plt.title(\"Confusion Matrix — Hit Prediction\")\n",
    "plt.show()"
   ]
  },
  {
   "cell_type": "code",
   "execution_count": null,
   "metadata": {},
   "outputs": [
    {
     "name": "stdout",
     "output_type": "stream",
     "text": [
      "Multiple versions of the song found:\n",
      "- Let Me Down Slowly by fenekot\n",
      "- Let Me Down Slowly by Alec Benjamin\n",
      "\n",
      "🎵 Song: Let Me Down Slowly — Alec Benjamin\n",
      "Prediction: Hit\n",
      "Confidence (Hit Probability): 0.53\n"
     ]
    },
    {
     "name": "stderr",
     "output_type": "stream",
     "text": [
      "/Library/Frameworks/Python.framework/Versions/3.13/lib/python3.13/site-packages/sklearn/utils/validation.py:2739: UserWarning: X does not have valid feature names, but StandardScaler was fitted with feature names\n",
      "  warnings.warn(\n",
      "/Library/Frameworks/Python.framework/Versions/3.13/lib/python3.13/site-packages/sklearn/utils/validation.py:2739: UserWarning: X does not have valid feature names, but RandomForestClassifier was fitted with feature names\n",
      "  warnings.warn(\n",
      "/Library/Frameworks/Python.framework/Versions/3.13/lib/python3.13/site-packages/sklearn/utils/validation.py:2739: UserWarning: X does not have valid feature names, but RandomForestClassifier was fitted with feature names\n",
      "  warnings.warn(\n"
     ]
    }
   ],
   "source": [
    "from sklearn.preprocessing import StandardScaler\n",
    "\n",
    "df_copy = df.copy()\n",
    "feature_cols = df_copy.drop(columns=['track_id', 'artists', 'album_name', 'track_name', 'track_genre', 'is_hit', 'popularity']).columns\n",
    "\n",
    "scaler = StandardScaler()\n",
    "scaler.fit(df_copy[feature_cols])\n",
    "\n",
    "song_input = input(\"Enter song name: \").strip().lower()\n",
    "\n",
    "matches = df_copy[df_copy['track_name'].str.lower() == song_input]\n",
    "\n",
    "if matches.empty:\n",
    "    print(\"Song not found in the dataset.\")\n",
    "else:\n",
    "    if len(matches) > 1:\n",
    "        print(\"Multiple versions of the song found:\")\n",
    "        for i, row in matches.iterrows():\n",
    "            print(f\"- {row['track_name']} by {row['artists']}\")\n",
    "\n",
    "        artist_input = input(\"Enter artist name to match: \").strip().lower()\n",
    "        filtered = matches[matches['artists'].str.lower().str.contains(artist_input)]\n",
    "\n",
    "        if filtered.empty:\n",
    "            print(\"No match for that artist.\")\n",
    "        else:\n",
    "            song_row = filtered.iloc[0]\n",
    "    else:\n",
    "        song_row = matches.iloc[0]\n",
    "\n",
    "    if 'song_row' in locals():\n",
    "        song_features = song_row[feature_cols].values.reshape(1, -1)\n",
    "        song_scaled = scaler.transform(song_features)\n",
    "\n",
    "        pred = clf.predict(song_scaled)[0]\n",
    "        prob = clf.predict_proba(song_scaled)[0][1]\n",
    "\n",
    "        result = \"Hit\" if pred == 1 else \"Flop\"\n",
    "        print(f\"\\nSong: {song_row['track_name']} — {song_row['artists']}\")\n",
    "        print(f\"Prediction: {result}\")\n",
    "        print(f\"Confidence (Hit Probability): {prob:.2f}\")\n"
   ]
  }
 ],
 "metadata": {
  "kernelspec": {
   "display_name": "Python 3",
   "language": "python",
   "name": "python3"
  },
  "language_info": {
   "codemirror_mode": {
    "name": "ipython",
    "version": 3
   },
   "file_extension": ".py",
   "mimetype": "text/x-python",
   "name": "python",
   "nbconvert_exporter": "python",
   "pygments_lexer": "ipython3",
   "version": "3.13.0"
  }
 },
 "nbformat": 4,
 "nbformat_minor": 2
}
