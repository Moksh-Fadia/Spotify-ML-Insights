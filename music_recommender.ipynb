{
 "cells": [
  {
   "cell_type": "code",
   "execution_count": 1,
   "metadata": {},
   "outputs": [],
   "source": [
    "import pandas as pd\n",
    "\n",
    "df1 = pd.read_csv('high-energy_electronic.csv')\n",
    "df2 = pd.read_csv('chill_indie.csv')\n",
    "df3 = pd.read_csv('slow_sad_acoustic.csv')\n",
    "df4 = pd.read_csv('danceable_pop_vibes.csv')\n",
    "\n",
    "df = pd.concat([df1, df2, df3, df4], ignore_index=True)"
   ]
  },
  {
   "cell_type": "code",
   "execution_count": 2,
   "metadata": {},
   "outputs": [
    {
     "name": "stdout",
     "output_type": "stream",
     "text": [
      "Original dataset size: 6468\n",
      "After removing duplicates: 5519\n"
     ]
    }
   ],
   "source": [
    "print(f\"Original dataset size: {len(df)}\")\n",
    "df_clean = df.drop_duplicates(subset=['track_name', 'artists'], keep='first')\n",
    "print(f\"After removing duplicates: {len(df_clean)}\")"
   ]
  },
  {
   "cell_type": "code",
   "execution_count": 3,
   "metadata": {},
   "outputs": [
    {
     "name": "stdout",
     "output_type": "stream",
     "text": [
      "\n",
      "Because you liked: Cheap Thrills by Sia\n",
      "\n",
      "Recommended Songs:\n",
      "\n",
      "→ I Took A Pill In Ibiza - Seeb Remix — Mike Posner;Seeb (Danceable Pop Vibes)\n",
      "→ Phulkari — Karan Randhawa (Danceable Pop Vibes)\n",
      "→ Levitating (feat. DaBaby) — Dua Lipa;DaBaby (Danceable Pop Vibes)\n",
      "→ Rhinestone Eyes — Gorillaz (Danceable Pop Vibes)\n",
      "→ Dynamite — BTS (Danceable Pop Vibes)\n"
     ]
    }
   ],
   "source": [
    "from sklearn.metrics.pairwise import cosine_similarity\n",
    "from sklearn.preprocessing import StandardScaler\n",
    "\n",
    "recommendation_features = [\n",
    "    'valence', 'energy', 'danceability', 'tempo', 'acousticness',\n",
    "    'instrumentalness', 'liveness', 'loudness', 'speechiness',\n",
    "    'duration_ms', 'key', 'mode', 'time_signature'\n",
    "]\n",
    "\n",
    "reco_data = df[recommendation_features]\n",
    "reco_scaled = StandardScaler().fit_transform(reco_data)\n",
    "\n",
    "similarity_matrix = cosine_similarity(reco_scaled)\n",
    "\n",
    "def normalize(text):\n",
    "    return ' '.join(text.lower().strip().split())\n",
    "\n",
    "def recommend_songs(track_name, artist, df, similarity_matrix, top_n=5):\n",
    "    idx = df[(df['track_name'].str.lower() == track_name.lower()) & \n",
    "             (df['artists'].str.lower().str.contains(artist.lower()))].index\n",
    "\n",
    "    if len(idx) == 0:\n",
    "        print(\"Song not found.\")\n",
    "        return\n",
    "\n",
    "    idx = idx[0]\n",
    "    similarity_scores = list(enumerate(similarity_matrix[idx]))\n",
    "    similarity_scores = sorted(similarity_scores, key=lambda x: x[1], reverse=True)\n",
    "\n",
    "    print(f\"\\nBecause you liked: {df.loc[idx, 'track_name']} by {df.loc[idx, 'artists']}\")\n",
    "    print(\"\\nRecommended Songs:\\n\")\n",
    "\n",
    "    count = 0\n",
    "    for i, score in similarity_scores[1:]:\n",
    "        song = df.loc[i, ['track_name', 'artists', 'playlist_name']]\n",
    "        print(f\"→ {song['track_name']} — {song['artists']} ({song['playlist_name']})\")\n",
    "        count += 1\n",
    "        if count == top_n:\n",
    "            break\n",
    "\n",
    "def recommend_songs(track_name, artist, df, similarity_matrix, top_n=5, min_similarity = 0.1):\n",
    "    idx = df[(df['track_name'].str.lower() == track_name.lower()) & \n",
    "             (df['artists'].str.lower().str.contains(artist.lower()))].index\n",
    "\n",
    "    if len(idx) == 0:\n",
    "        print(\"Song not found.\")\n",
    "        return\n",
    "\n",
    "    idx = idx[0]\n",
    "    similarity_scores = list(enumerate(similarity_matrix[idx]))\n",
    "    similarity_scores = sorted(similarity_scores, key=lambda x: x[1], reverse=True)\n",
    "\n",
    "    print(f\"\\nBecause you liked: {df.loc[idx, 'track_name']} by {df.loc[idx, 'artists']}\")\n",
    "    print(\"\\nRecommended Songs:\\n\")\n",
    "\n",
    "    seen = set()\n",
    "    count = 0\n",
    "    for i, score in similarity_scores[1:]:\n",
    "        if score < min_similarity:  # Filtering out very low similarity scores\n",
    "            continue\n",
    "            \n",
    "        song = df.loc[i]\n",
    "        key = normalize(song['track_name'])\n",
    "\n",
    "        if key in seen:\n",
    "            continue\n",
    "        \n",
    "        seen.add(key)\n",
    "\n",
    "        print(f\"→ {song['track_name']} — {song['artists']} ({song['playlist_name']})\")\n",
    "        count += 1\n",
    "        if count == top_n:\n",
    "            break  \n",
    "\n",
    "recommend_songs(\"cheap thrills\", \"sia\", df, similarity_matrix, top_n=5)\n"
   ]
  }
 ],
 "metadata": {
  "kernelspec": {
   "display_name": "Python 3",
   "language": "python",
   "name": "python3"
  },
  "language_info": {
   "codemirror_mode": {
    "name": "ipython",
    "version": 3
   },
   "file_extension": ".py",
   "mimetype": "text/x-python",
   "name": "python",
   "nbconvert_exporter": "python",
   "pygments_lexer": "ipython3",
   "version": "3.13.0"
  }
 },
 "nbformat": 4,
 "nbformat_minor": 2
}
